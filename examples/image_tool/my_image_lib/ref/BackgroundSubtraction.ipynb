{
 "cells": [
  {
   "cell_type": "markdown",
   "metadata": {},
   "source": [
    "# Background Subtraction: Algorithm Validation and Verification\n",
    "\n",
    "To run this notebook, `build.sh` the image_tools project. Then: \n",
    "\n",
    "    pip install jupyter matplotlib scipy scikit-image\n",
    "    jupyter notebook"
   ]
  },
  {
   "cell_type": "code",
   "execution_count": null,
   "metadata": {},
   "outputs": [],
   "source": [
    "%matplotlib inline\n",
    "\n",
    "import sys\n",
    "from os.path import abspath, join, dirname, exists\n",
    "\n",
    "this_folder = abspath(\".\")\n",
    "src_gen_path = abspath(join(this_folder, \"src-gen\"))\n",
    "sys.path.append(src_gen_path)\n"
   ]
  },
  {
   "cell_type": "markdown",
   "metadata": {},
   "source": [
    "## Python Reference Implementation\n",
    "\n",
    "Here, we implement the **Reference Implementation**. For this we derive from the **generated abstract algorithm**. The parameters are completly handled by the generated code. We just have to elaborate on the algorithmic details here. Note: In Python we always compute the real median. The `type` parameter is ignored here (there is no `HISTOGRAMBASED_MEDIAN_APPROX` implementation)..."
   ]
  },
  {
   "cell_type": "code",
   "execution_count": null,
   "metadata": {},
   "outputs": [],
   "source": [
    "from my_image_lib.GrayImage import GrayImage\n",
    "from my_image_lib.background_subtraction.AlgoBackgroundSubtraction import AlgoBackgroundSubtraction\n",
    "from my_image_lib.background_subtraction.BackgroundSubtractionResults import BackgroundSubtractionResults\n",
    "from scipy.ndimage import median_filter\n",
    "import numpy as np\n",
    "from pylab import *\n",
    "from skimage.io import imread\n",
    "\n",
    "class MyAlgoBackgroundSubtraction(AlgoBackgroundSubtraction):\n",
    "    def compute(self, inp, the_res):\n",
    "        the_res.threshold.pixel = array(median_filter(inp.pixel, self.params.n), dtype=float) + self.params.threshold\n",
    "        the_res.result.pixel = array(inp.pixel > the_res.threshold.pixel, dtype=float)\n",
    "        the_res.threshold.w = inp.pixel.shape[1]\n",
    "        the_res.threshold.h = inp.pixel.shape[0]\n",
    "        the_res.result.w = inp.pixel.shape[1]\n",
    "        the_res.result.h = inp.pixel.shape[0]"
   ]
  },
  {
   "cell_type": "markdown",
   "metadata": {},
   "source": [
    "Now, we apply the **Reference Implementation** on an **example image** (with default parameters)..."
   ]
  },
  {
   "cell_type": "code",
   "execution_count": null,
   "metadata": {},
   "outputs": [],
   "source": [
    "inp = GrayImage()\n",
    "inp.pixel = imread(\"zeitung.png\", as_gray=True)/255.0\n",
    "inp.w = inp.pixel.shape[1]\n",
    "inp.h = inp.pixel.shape[0]\n",
    "ref_res = BackgroundSubtractionResults()\n",
    "algo = MyAlgoBackgroundSubtraction()\n",
    "algo.compute(inp, ref_res)\n",
    "print(f\"used parameters:\\n{algo.params}\")"
   ]
  },
  {
   "cell_type": "markdown",
   "metadata": {},
   "source": [
    "--- and show the results:"
   ]
  },
  {
   "cell_type": "code",
   "execution_count": null,
   "metadata": {},
   "outputs": [],
   "source": [
    "figure(figsize=[15,5])\n",
    "\n",
    "subplot(1,3,1)\n",
    "title(\"input\")\n",
    "imshow(inp.pixel, cm.gray)\n",
    "\n",
    "subplot(1,3,2)\n",
    "title(\"threshold (Python, reference)\")\n",
    "imshow(ref_res.threshold.pixel, cm.gray)\n",
    "\n",
    "subplot(1,3,3)\n",
    "title(\"result (Python, reference)\")\n",
    "imshow(ref_res.result.pixel, cm.gray);"
   ]
  },
  {
   "cell_type": "markdown",
   "metadata": {},
   "source": [
    "## Run and evaluate the C++ Implementation\n",
    "\n",
    "Now we **instantiate the C++ Algorithm** (compiled and made accessible to Python via SWIG) and **apply the C++ Algorithm** on the same data as above:"
   ]
  },
  {
   "cell_type": "code",
   "execution_count": null,
   "metadata": {},
   "outputs": [],
   "source": [
    "from mdsd.item.io import copy\n",
    "from my_image_lib_swig import GrayImage as SwigGrayImage\n",
    "from my_image_lib_swig import BackgroundSubtractionResults as SwigBackgroundSubtractionResults\n",
    "from my_image_lib_swig import AlgoBackgroundSubtraction as SwigAlgoBackgroundSubtraction\n",
    "swig_inp = SwigGrayImage()\n",
    "swig_res = SwigBackgroundSubtractionResults()\n",
    "res = BackgroundSubtractionResults()\n",
    "\n",
    "copy(inp, swig_inp)  # copy data from Python to C++\n",
    "\n",
    "swig_algo = SwigAlgoBackgroundSubtraction.create()\n",
    "swig_algo.compute(swig_inp, swig_res)\n",
    "\n",
    "copy(swig_res, res);  # copy data back from C++ to Python"
   ]
  },
  {
   "cell_type": "markdown",
   "metadata": {},
   "source": [
    "**Display the results**:"
   ]
  },
  {
   "cell_type": "code",
   "execution_count": null,
   "metadata": {},
   "outputs": [],
   "source": [
    "figure(figsize=[15,5])\n",
    "\n",
    "subplot(1,3,1)\n",
    "title(\"input\")\n",
    "imshow(inp.pixel, cm.gray)\n",
    "\n",
    "subplot(1,3,2)\n",
    "title(\"threshold (C++)\")\n",
    "imshow(res.threshold.pixel, cm.gray)\n",
    "\n",
    "subplot(1,3,3)\n",
    "title(\"result (C++)\")\n",
    "imshow(res.result.pixel, cm.gray);"
   ]
  },
  {
   "cell_type": "markdown",
   "metadata": {},
   "source": [
    "### Compare C++ and Reference Implementation\n",
    "\n",
    "You can **see the difference of the implementations**, especially in the border region:"
   ]
  },
  {
   "cell_type": "code",
   "execution_count": null,
   "metadata": {},
   "outputs": [],
   "source": [
    "figure(figsize=[15,7])\n",
    "y = 200\n",
    "\n",
    "subplot(2,3,1)\n",
    "title(\"threshold (Python)\")\n",
    "imshow(ref_res.threshold.pixel, cm.gray)\n",
    "plot([0,ref_res.threshold.w],[y,y], 'b-')\n",
    "\n",
    "subplot(2,3,4)\n",
    "title(\"threshold (C++)\")\n",
    "imshow(res.threshold.pixel, cm.gray)\n",
    "plot([0,ref_res.threshold.w],[y,y], 'r--')\n",
    "\n",
    "subplot(1,2,2)\n",
    "plot(ref_res.threshold.pixel[y,:], 'b-', label=\"Python, reference\")\n",
    "plot(res.threshold.pixel[y,:], 'r--', label=\"C++\")\n",
    "legend();\n",
    "\n",
    "border = algo.params.n//2+1\n",
    "error = abs(res.threshold.pixel-ref_res.threshold.pixel)\n",
    "error = error[border:-border, border:-border]\n",
    "subplot(2,6,3)\n",
    "boxplot(error.flatten())\n",
    "title(f\"errors excluding\\nthe border ({border})\")\n",
    "subplot(2,6,9)\n",
    "title(f\"error locations, excluding\\nthe border ({border})\\n(darker = larger error)\")\n",
    "imshow(-error**0.1, cm.gray);"
   ]
  }
 ],
 "metadata": {
  "kernelspec": {
   "display_name": "Python 3",
   "language": "python",
   "name": "python3"
  },
  "language_info": {
   "codemirror_mode": {
    "name": "ipython",
    "version": 3
   },
   "file_extension": ".py",
   "mimetype": "text/x-python",
   "name": "python",
   "nbconvert_exporter": "python",
   "pygments_lexer": "ipython3",
   "version": "3.8.5"
  }
 },
 "nbformat": 4,
 "nbformat_minor": 4
}
